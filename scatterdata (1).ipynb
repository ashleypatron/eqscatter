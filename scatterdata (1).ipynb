{
 "cells": [
  {
   "cell_type": "code",
   "execution_count": 2,
   "id": "4574a722-4778-4fbe-b79b-566a61a30739",
   "metadata": {},
   "outputs": [],
   "source": [
    "%matplotlib inline\n",
    "import warnings\n",
    "from gwpy.time import to_gps, from_gps, tconvert\n",
    "from astropy.time import Time\n",
    "from gwpy.timeseries import TimeSeries\n",
    "from gwtrigfind import find_trigger_files\n",
    "from gwpy.table import EventTable"
   ]
  },
  {
   "cell_type": "code",
   "execution_count": 3,
   "id": "84ea2eaa-2923-482f-bbcb-66c5e2e6c2aa",
   "metadata": {
    "tags": []
   },
   "outputs": [],
   "source": [
    "tstart = Time('2020-01-26 07:10:00', format='iso', scale='utc')\n",
    "tend = Time('2020-01-26 08:10:00', format='iso', scale='utc')\n",
    "\n",
    "filedate = '200126_0710_0810' #YYMMDD_start_end\n",
    "filelocation = 'scatter_data/'\n",
    "\n",
    "channels = ['ETMX_X','ETMX_Y','ETMX_Z','ETMY_X','ETMY_Y','ETMY_Z','ITMX_X','ITMX_Y','ITMX_Z']"
   ]
  },
  {
   "cell_type": "code",
   "execution_count": 4,
   "id": "9b560810-3623-4949-8362-74292afd165e",
   "metadata": {
    "tags": []
   },
   "outputs": [
    {
     "name": "stdout",
     "output_type": "stream",
     "text": [
      "Opening new connection to nds... connected\n",
      "    [nds] set ALLOW_DATA_ON_TAPE='False'\n",
      "Checking channels list against NDS2 database... done\n",
      "Downloading data: |██████████| 60.0/60.0 (100%) ETA 00:00 \n",
      "Opening new connection to nds... connected\n",
      "    [nds] set ALLOW_DATA_ON_TAPE='False'\n",
      "Checking channels list against NDS2 database... done\n",
      "Downloading data: |██████████| 60.0/60.0 (100%) ETA 00:00 \n",
      "Opening new connection to nds... connected\n",
      "    [nds] set ALLOW_DATA_ON_TAPE='False'\n",
      "Checking channels list against NDS2 database... done\n",
      "Downloading data: |██████████| 60.0/60.0 (100%) ETA 00:00 \n",
      "Opening new connection to nds... connected\n",
      "    [nds] set ALLOW_DATA_ON_TAPE='False'\n",
      "Checking channels list against NDS2 database... done\n",
      "Downloading data: |██████████| 60.0/60.0 (100%) ETA 00:00 \n",
      "Opening new connection to nds... connected\n",
      "    [nds] set ALLOW_DATA_ON_TAPE='False'\n",
      "Checking channels list against NDS2 database... done\n",
      "Downloading data: |██████████| 60.0/60.0 (100%) ETA 00:00 \n",
      "Opening new connection to nds... connected\n",
      "    [nds] set ALLOW_DATA_ON_TAPE='False'\n",
      "Checking channels list against NDS2 database... done\n",
      "Downloading data: |██████████| 60.0/60.0 (100%) ETA 00:00 \n",
      "Opening new connection to nds... connected\n",
      "    [nds] set ALLOW_DATA_ON_TAPE='False'\n",
      "Checking channels list against NDS2 database... done\n",
      "Downloading data: |██████████| 60.0/60.0 (100%) ETA 00:00 \n",
      "Opening new connection to nds... connected\n",
      "    [nds] set ALLOW_DATA_ON_TAPE='False'\n",
      "Checking channels list against NDS2 database... done\n",
      "Downloading data: |██████████| 60.0/60.0 (100%) ETA 00:00 \n",
      "Opening new connection to nds... connected\n",
      "    [nds] set ALLOW_DATA_ON_TAPE='False'\n",
      "Checking channels list against NDS2 database... done\n",
      "Downloading data: |██████████| 60.0/60.0 (100%) ETA 00:00 \n",
      "CPU times: user 965 ms, sys: 207 ms, total: 1.17 s\n",
      "Wall time: 13.1 s\n"
     ]
    }
   ],
   "source": [
    "%%time\n",
    "#grab seismometer data\n",
    "for ch in channels:\n",
    "    data = TimeSeries.fetch('L1:ISI-GND_STS_'+ ch + '_DQ', tstart, tend, verbose=True)#, allow_tape=True)\n",
    "    data.write(filelocation + 'L1seis' + ch + '_' + filedate + '.txt')"
   ]
  },
  {
   "cell_type": "code",
   "execution_count": 5,
   "id": "460e2f8e-5fc7-4009-9554-e3c60d1bcb12",
   "metadata": {
    "tags": []
   },
   "outputs": [
    {
     "name": "stdout",
     "output_type": "stream",
     "text": [
      "Opening new connection to nds... connected\n",
      "    [nds] set ALLOW_DATA_ON_TAPE='True'\n",
      "Checking channels list against NDS2 database... Opening new connection to nds.ligo.caltech.edu... Opening new connection to nds.ligo-la.caltech.edu... "
     ]
    },
    {
     "name": "stderr",
     "output_type": "stream",
     "text": [
      "/cvmfs/oasis.opensciencegrid.org/ligo/sw/conda/envs/igwn-py39/lib/python3.9/site-packages/gwpy/timeseries/core.py:1142: NDSWarning: unique NDS2 channel match not found for 'L1:GDS-CALIB_STRAIN.clean'\n",
      "  warnings.warn(error.split('\\n', 1)[0],\n",
      "Error in write(): Connection refused\n",
      "Error in write(): Connection refused\n",
      "/cvmfs/oasis.opensciencegrid.org/ligo/sw/conda/envs/igwn-py39/lib/python3.9/site-packages/gwpy/timeseries/core.py:1142: NDSWarning: Failed to establish a connection[INFO: Error occurred trying to write to socket]\n",
      "  warnings.warn(error.split('\\n', 1)[0],\n"
     ]
    },
    {
     "name": "stdout",
     "output_type": "stream",
     "text": [
      "connected\n",
      "    [nds.ligo-la.caltech.edu] set ALLOW_DATA_ON_TAPE='True'\n",
      "Checking channels list against NDS2 database... "
     ]
    },
    {
     "name": "stderr",
     "output_type": "stream",
     "text": [
      "/cvmfs/oasis.opensciencegrid.org/ligo/sw/conda/envs/igwn-py39/lib/python3.9/site-packages/gwpy/timeseries/core.py:1142: NDSWarning: unique NDS2 channel match not found for 'L1:GDS-CALIB_STRAIN.clean'\n",
      "  warnings.warn(error.split('\\n', 1)[0],\n"
     ]
    },
    {
     "ename": "RuntimeError",
     "evalue": "Cannot find all relevant data on any known server.",
     "output_type": "error",
     "traceback": [
      "\u001b[0;31m---------------------------------------------------------------------------\u001b[0m",
      "\u001b[0;31mRuntimeError\u001b[0m                              Traceback (most recent call last)",
      "File \u001b[0;32m<timed exec>:1\u001b[0m\n",
      "File \u001b[0;32m/cvmfs/oasis.opensciencegrid.org/ligo/sw/conda/envs/igwn-py39/lib/python3.9/site-packages/gwpy/timeseries/core.py:376\u001b[0m, in \u001b[0;36mTimeSeriesBase.fetch\u001b[0;34m(cls, channel, start, end, host, port, verbose, connection, verify, pad, allow_tape, scaled, type, dtype)\u001b[0m\n\u001b[1;32m    329\u001b[0m \u001b[38;5;129m@classmethod\u001b[39m\n\u001b[1;32m    330\u001b[0m \u001b[38;5;28;01mdef\u001b[39;00m \u001b[38;5;21mfetch\u001b[39m(\u001b[38;5;28mcls\u001b[39m, channel, start, end, host\u001b[38;5;241m=\u001b[39m\u001b[38;5;28;01mNone\u001b[39;00m, port\u001b[38;5;241m=\u001b[39m\u001b[38;5;28;01mNone\u001b[39;00m, verbose\u001b[38;5;241m=\u001b[39m\u001b[38;5;28;01mFalse\u001b[39;00m,\n\u001b[1;32m    331\u001b[0m           connection\u001b[38;5;241m=\u001b[39m\u001b[38;5;28;01mNone\u001b[39;00m, verify\u001b[38;5;241m=\u001b[39m\u001b[38;5;28;01mFalse\u001b[39;00m, pad\u001b[38;5;241m=\u001b[39m\u001b[38;5;28;01mNone\u001b[39;00m, allow_tape\u001b[38;5;241m=\u001b[39m\u001b[38;5;28;01mNone\u001b[39;00m,\n\u001b[1;32m    332\u001b[0m           scaled\u001b[38;5;241m=\u001b[39m\u001b[38;5;28;01mNone\u001b[39;00m, \u001b[38;5;28mtype\u001b[39m\u001b[38;5;241m=\u001b[39m\u001b[38;5;28;01mNone\u001b[39;00m, dtype\u001b[38;5;241m=\u001b[39m\u001b[38;5;28;01mNone\u001b[39;00m):\n\u001b[1;32m    333\u001b[0m     \u001b[38;5;124;03m\"\"\"Fetch data from NDS\u001b[39;00m\n\u001b[1;32m    334\u001b[0m \n\u001b[1;32m    335\u001b[0m \u001b[38;5;124;03m    Parameters\u001b[39;00m\n\u001b[0;32m   (...)\u001b[0m\n\u001b[1;32m    374\u001b[0m \u001b[38;5;124;03m        NDS2 data type to match\u001b[39;00m\n\u001b[1;32m    375\u001b[0m \u001b[38;5;124;03m    \"\"\"\u001b[39;00m\n\u001b[0;32m--> 376\u001b[0m     \u001b[38;5;28;01mreturn\u001b[39;00m \u001b[38;5;28;43mcls\u001b[39;49m\u001b[38;5;241;43m.\u001b[39;49m\u001b[43mDictClass\u001b[49m\u001b[38;5;241;43m.\u001b[39;49m\u001b[43mfetch\u001b[49m\u001b[43m(\u001b[49m\n\u001b[1;32m    377\u001b[0m \u001b[43m        \u001b[49m\u001b[43m[\u001b[49m\u001b[43mchannel\u001b[49m\u001b[43m]\u001b[49m\u001b[43m,\u001b[49m\u001b[43m \u001b[49m\u001b[43mstart\u001b[49m\u001b[43m,\u001b[49m\u001b[43m \u001b[49m\u001b[43mend\u001b[49m\u001b[43m,\u001b[49m\u001b[43m \u001b[49m\u001b[43mhost\u001b[49m\u001b[38;5;241;43m=\u001b[39;49m\u001b[43mhost\u001b[49m\u001b[43m,\u001b[49m\u001b[43m \u001b[49m\u001b[43mport\u001b[49m\u001b[38;5;241;43m=\u001b[39;49m\u001b[43mport\u001b[49m\u001b[43m,\u001b[49m\u001b[43m \u001b[49m\u001b[43mverbose\u001b[49m\u001b[38;5;241;43m=\u001b[39;49m\u001b[43mverbose\u001b[49m\u001b[43m,\u001b[49m\n\u001b[1;32m    378\u001b[0m \u001b[43m        \u001b[49m\u001b[43mconnection\u001b[49m\u001b[38;5;241;43m=\u001b[39;49m\u001b[43mconnection\u001b[49m\u001b[43m,\u001b[49m\u001b[43m \u001b[49m\u001b[43mverify\u001b[49m\u001b[38;5;241;43m=\u001b[39;49m\u001b[43mverify\u001b[49m\u001b[43m,\u001b[49m\u001b[43m \u001b[49m\u001b[43mpad\u001b[49m\u001b[38;5;241;43m=\u001b[39;49m\u001b[43mpad\u001b[49m\u001b[43m,\u001b[49m\u001b[43m \u001b[49m\u001b[43mscaled\u001b[49m\u001b[38;5;241;43m=\u001b[39;49m\u001b[43mscaled\u001b[49m\u001b[43m,\u001b[49m\n\u001b[1;32m    379\u001b[0m \u001b[43m        \u001b[49m\u001b[43mallow_tape\u001b[49m\u001b[38;5;241;43m=\u001b[39;49m\u001b[43mallow_tape\u001b[49m\u001b[43m,\u001b[49m\u001b[43m \u001b[49m\u001b[38;5;28;43mtype\u001b[39;49m\u001b[38;5;241;43m=\u001b[39;49m\u001b[38;5;28;43mtype\u001b[39;49m\u001b[43m,\u001b[49m\u001b[43m \u001b[49m\u001b[43mdtype\u001b[49m\u001b[38;5;241;43m=\u001b[39;49m\u001b[43mdtype\u001b[49m\u001b[43m)\u001b[49m[\u001b[38;5;28mstr\u001b[39m(channel)]\n",
      "File \u001b[0;32m/cvmfs/oasis.opensciencegrid.org/ligo/sw/conda/envs/igwn-py39/lib/python3.9/site-packages/gwpy/timeseries/core.py:1164\u001b[0m, in \u001b[0;36mTimeSeriesBaseDict.fetch\u001b[0;34m(cls, channels, start, end, host, port, verify, verbose, connection, pad, scaled, allow_tape, type, dtype)\u001b[0m\n\u001b[1;32m   1161\u001b[0m     \u001b[38;5;28;01mif\u001b[39;00m \u001b[38;5;129;01mnot\u001b[39;00m verbose:\n\u001b[1;32m   1162\u001b[0m         err \u001b[38;5;241m+\u001b[39m\u001b[38;5;241m=\u001b[39m (\u001b[38;5;124m\"\u001b[39m\u001b[38;5;124m Try again using the verbose=True keyword argument \u001b[39m\u001b[38;5;124m\"\u001b[39m\n\u001b[1;32m   1163\u001b[0m                 \u001b[38;5;124m\"\u001b[39m\u001b[38;5;124m to see detailed failures.\u001b[39m\u001b[38;5;124m\"\u001b[39m)\n\u001b[0;32m-> 1164\u001b[0m     \u001b[38;5;28;01mraise\u001b[39;00m \u001b[38;5;167;01mRuntimeError\u001b[39;00m(err)\n\u001b[1;32m   1166\u001b[0m \u001b[38;5;66;03m# -- at this point we have an open connection, so perform fetch\u001b[39;00m\n\u001b[1;32m   1168\u001b[0m start \u001b[38;5;241m=\u001b[39m to_gps(start)\n",
      "\u001b[0;31mRuntimeError\u001b[0m: Cannot find all relevant data on any known server."
     ]
    }
   ],
   "source": [
    "%%time\n",
    "gwdata = TimeSeries.fetch('L1:GDS-CALIB_STRAIN', tstart.gps, tend.gps, verbose=True)\n",
    "gwdata.write(filelocation + 'L1calibstrain_' + filedate + '.txt')"
   ]
  },
  {
   "cell_type": "code",
   "execution_count": 7,
   "id": "bcd87fb7-50a8-4846-9171-ab3cdfa10e6b",
   "metadata": {},
   "outputs": [],
   "source": [
    "gwdata = gwdata.resample(2048)\n",
    "gwdata = gwdata.resample(512)\n",
    "gwdata.write(filelocation + 'L1calibstrain_' + filedate + '_512Hz.txt')"
   ]
  },
  {
   "cell_type": "code",
   "execution_count": 8,
   "id": "8217abb1-0845-4392-82c7-cb6b271767b6",
   "metadata": {},
   "outputs": [],
   "source": [
    "#downsample seismometer data to 64Hz\n",
    "for ch in channels:\n",
    "    data = TimeSeries.read(filelocation + 'L1seis' + ch + '_' + filedate + '.txt')\n",
    "    data = data.resample(64)\n",
    "    data.write(filelocation + 'L1seis' + ch + '_' + filedate + '_64Hz.txt')"
   ]
  },
  {
   "cell_type": "code",
   "execution_count": 13,
   "id": "84686f14-d28c-4b72-b442-1b30b70e662a",
   "metadata": {},
   "outputs": [],
   "source": [
    "#rerun for freq>1 instead of freq>8\n",
    "cache = find_trigger_files('L1:GDS_CALIB_STRAIN','omicron',tstart,tend,ext='h5')\n",
    "trigtab = EventTable.read(cache,format = 'hdf5', path = 'triggers').filter('frequency>1','frequency<2048','snr<200')\n",
    "\n",
    "EventTable.write(trigtab,filelocation + 'L1calibtriggers' + filedate + '.csv',format='csv') "
   ]
  },
  {
   "cell_type": "code",
   "execution_count": 10,
   "id": "09de4513-9f73-4e63-86e4-1d10ba5738ed",
   "metadata": {},
   "outputs": [
    {
     "name": "stdout",
     "output_type": "stream",
     "text": [
      "Opening new connection to nds... connected\n",
      "    [nds] set ALLOW_DATA_ON_TAPE='False'\n",
      "Checking channels list against NDS2 database... done\n",
      "Downloading data: |██████████| 60.0/60.0 (100%) ETA 00:00 \n",
      "CPU times: user 49.4 ms, sys: 14 ms, total: 63.4 ms\n",
      "Wall time: 1.28 s\n"
     ]
    }
   ],
   "source": [
    "%%time\n",
    "#download suspension data\n",
    "data = TimeSeries.fetch('L1:SUS-ETMX_L2_WIT_L_DQ', tstart, tend, verbose=True)\n",
    "data.write(filelocation + 'L1sus_ETMX_DQ_' + filedate + '.txt')"
   ]
  },
  {
   "cell_type": "code",
   "execution_count": 11,
   "id": "ca5eccc5-3493-45e3-8195-72a8f16f1573",
   "metadata": {},
   "outputs": [
    {
     "name": "stdout",
     "output_type": "stream",
     "text": [
      "Opening new connection to nds... connected\n",
      "    [nds] set ALLOW_DATA_ON_TAPE='False'\n",
      "Checking channels list against NDS2 database... done\n",
      "Downloading data: |██████████| 60.0/60.0 (100%) ETA 00:00 \n",
      "CPU times: user 335 ms, sys: 11.9 ms, total: 346 ms\n",
      "Wall time: 1.82 s\n"
     ]
    }
   ],
   "source": [
    "%%time\n",
    "#download transmission data #alignment sensing control\n",
    "data = TimeSeries.fetch('L1:ASC-X_TR_A_NSUM_OUT_DQ', tstart, tend, verbose=True)\n",
    "data.write(filelocation + 'L1asc_trA_ETMX_DQ_' + filedate + '.txt')"
   ]
  },
  {
   "cell_type": "code",
   "execution_count": 12,
   "id": "ffe3f1de-6d51-4d9b-97b8-bdd164761559",
   "metadata": {},
   "outputs": [
    {
     "name": "stdout",
     "output_type": "stream",
     "text": [
      "Opening new connection to nds... connected\n",
      "    [nds] set ALLOW_DATA_ON_TAPE='False'\n",
      "Checking channels list against NDS2 database... done\n",
      "Downloading data: |██████████| 60.0/60.0 (100%) ETA 00:00 \n",
      "CPU times: user 346 ms, sys: 11.3 ms, total: 357 ms\n",
      "Wall time: 1.67 s\n"
     ]
    }
   ],
   "source": [
    "%%time\n",
    "#download data for push onto penultimate mass\n",
    "data = TimeSeries.fetch('L1:SUS-ETMX_L2_DRIVEALIGN_L_OUT_DQ', tstart, tend, verbose=True)\n",
    "data.write(filelocation + 'L1sus_drive_ETMX_DQ_' + filedate + '.txt')"
   ]
  },
  {
   "cell_type": "code",
   "execution_count": null,
   "id": "121457c3-e4a7-4f61-9133-d9589f896ae3",
   "metadata": {},
   "outputs": [],
   "source": []
  }
 ],
 "metadata": {
  "kernelspec": {
   "display_name": "igwn-py39",
   "language": "python",
   "name": "igwn-py39"
  },
  "language_info": {
   "codemirror_mode": {
    "name": "ipython",
    "version": 3
   },
   "file_extension": ".py",
   "mimetype": "text/x-python",
   "name": "python",
   "nbconvert_exporter": "python",
   "pygments_lexer": "ipython3",
   "version": "3.9.16"
  }
 },
 "nbformat": 4,
 "nbformat_minor": 5
}
